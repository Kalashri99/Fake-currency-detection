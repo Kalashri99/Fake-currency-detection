{
 "cells": [
  {
   "cell_type": "code",
   "execution_count": 2,
   "id": "22963ba1",
   "metadata": {},
   "outputs": [],
   "source": [
    "import tensorflow as tf\n",
    "import numpy as np"
   ]
  },
  {
   "cell_type": "markdown",
   "id": "558338f8",
   "metadata": {},
   "source": [
    "## First method to load an image"
   ]
  },
  {
   "cell_type": "code",
   "execution_count": null,
   "id": "6fefb3f9",
   "metadata": {},
   "outputs": [],
   "source": [
    "from IPython.display import Image\n",
    "Image(filename='Dataset/training/44.jpg',width=224,height=224)"
   ]
  }
 ],
 "metadata": {
  "kernelspec": {
   "display_name": "Python 3 (ipykernel)",
   "language": "python",
   "name": "python3"
  },
  "language_info": {
   "codemirror_mode": {
    "name": "ipython",
    "version": 3
   },
   "file_extension": ".py",
   "mimetype": "text/x-python",
   "name": "python",
   "nbconvert_exporter": "python",
   "pygments_lexer": "ipython3",
   "version": "3.8.8"
  }
 },
 "nbformat": 4,
 "nbformat_minor": 5
}
